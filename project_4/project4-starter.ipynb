{
 "cells": [
  {
   "cell_type": "markdown",
   "metadata": {},
   "source": [
    "# Project 4\n",
    "\n",
    "In this project, you will summarize and present your analysis from Projects 1-3."
   ]
  },
  {
   "cell_type": "markdown",
   "metadata": {},
   "source": [
    "### Intro: Write a problem Statement/ Specific Aim for this project"
   ]
  },
  {
   "cell_type": "markdown",
   "metadata": {},
   "source": [
    "Answer: The aim of this project was to predict admission decision (admit or reject) for each student given a bunch of independent variables such as GPA, GRE, and prestige (school ranking). I built a binary classification model, using logistic regression techniques learned in class. The model assumed that the indepedent variables were not highly correlated."
   ]
  },
  {
   "cell_type": "markdown",
   "metadata": {},
   "source": [
    "### Dataset:  Write up a description of your data and any cleaning that was completed"
   ]
  },
  {
   "cell_type": "markdown",
   "metadata": {},
   "source": [
    "Answer: Dataset was admissions.csv.  There were some NaN, which I had to eliminate using dropna() function. Also, prestige [1,2,3,4] is actually a categorical variable, not numerical. So I had to create dummy variables [Prestige 1, Prestige 2, etc..]."
   ]
  },
  {
   "cell_type": "markdown",
   "metadata": {
    "collapsed": true
   },
   "source": [
    "### Demo: Provide a table that explains the data by admission status"
   ]
  },
  {
   "cell_type": "markdown",
   "metadata": {},
   "source": [
    "Mean (STD) or counts by admission status for each variable \n",
    "\n",
    "| Not Admitted | Admitted\n",
    "---| ---|---\n",
    "GPA | mean(std)  | mean(std)\n",
    "GRE |mean(std) | mean(std)\n",
    "Prestige 1 | frequency (%) | frequency (%)\n",
    "Prestige 2 | frequency (%) | frequency (%)\n",
    "Prestige 3 |frequency (%) | frequency (%)\n",
    "Prestige 4 |frequency (%) | frequency (%)"
   ]
  },
  {
   "cell_type": "code",
   "execution_count": 1,
   "metadata": {
    "collapsed": false
   },
   "outputs": [
    {
     "name": "stdout",
     "output_type": "stream",
     "text": [
      "   admit    gre   gpa  prestige\n",
      "0      0  380.0  3.61       3.0\n",
      "1      1  660.0  3.67       3.0\n",
      "2      1  800.0  4.00       1.0\n",
      "3      1  640.0  3.19       4.0\n",
      "4      0  520.0  2.93       4.0\n"
     ]
    }
   ],
   "source": [
    "%matplotlib inline\n",
    "import matplotlib.pyplot as plt\n",
    "import pandas as pd\n",
    "import statsmodels.api as sm\n",
    "# import pylab as pl\n",
    "import numpy as np\n",
    "import seaborn as sns\n",
    "sns.set_style('darkgrid')\n",
    "\n",
    "df_raw = pd.read_csv(\"./assets/admissions.csv\")\n",
    "df = df_raw.dropna()\n",
    "print (df.head())"
   ]
  },
  {
   "cell_type": "code",
   "execution_count": 53,
   "metadata": {
    "collapsed": false
   },
   "outputs": [
    {
     "data": {
      "text/html": [
       "<div>\n",
       "<table border=\"1\" class=\"dataframe\">\n",
       "  <thead>\n",
       "    <tr style=\"text-align: right;\">\n",
       "      <th></th>\n",
       "      <th>Admitted</th>\n",
       "      <th>Not Admitted</th>\n",
       "    </tr>\n",
       "  </thead>\n",
       "  <tbody>\n",
       "    <tr>\n",
       "      <th>GPA_mean</th>\n",
       "      <td>3.489206</td>\n",
       "      <td>3.347159</td>\n",
       "    </tr>\n",
       "    <tr>\n",
       "      <th>GPA_std</th>\n",
       "      <td>0.371655</td>\n",
       "      <td>0.376355</td>\n",
       "    </tr>\n",
       "    <tr>\n",
       "      <th>GRE_mean</th>\n",
       "      <td>618.571429</td>\n",
       "      <td>573.579336</td>\n",
       "    </tr>\n",
       "    <tr>\n",
       "      <th>GRE_std</th>\n",
       "      <td>109.257233</td>\n",
       "      <td>116.052798</td>\n",
       "    </tr>\n",
       "    <tr>\n",
       "      <th>prestige 1</th>\n",
       "      <td>0.540984</td>\n",
       "      <td>0.459016</td>\n",
       "    </tr>\n",
       "    <tr>\n",
       "      <th>prestige 2</th>\n",
       "      <td>0.358108</td>\n",
       "      <td>0.641892</td>\n",
       "    </tr>\n",
       "    <tr>\n",
       "      <th>prestige 3</th>\n",
       "      <td>0.231405</td>\n",
       "      <td>0.768595</td>\n",
       "    </tr>\n",
       "    <tr>\n",
       "      <th>prestige 4</th>\n",
       "      <td>0.179104</td>\n",
       "      <td>0.820896</td>\n",
       "    </tr>\n",
       "  </tbody>\n",
       "</table>\n",
       "</div>"
      ],
      "text/plain": [
       "              Admitted  Not Admitted\n",
       "GPA_mean      3.489206      3.347159\n",
       "GPA_std       0.371655      0.376355\n",
       "GRE_mean    618.571429    573.579336\n",
       "GRE_std     109.257233    116.052798\n",
       "prestige 1    0.540984      0.459016\n",
       "prestige 2    0.358108      0.641892\n",
       "prestige 3    0.231405      0.768595\n",
       "prestige 4    0.179104      0.820896"
      ]
     },
     "execution_count": 53,
     "metadata": {},
     "output_type": "execute_result"
    }
   ],
   "source": [
    "table = pd.DataFrame({'Not Admitted': [df['gpa'].groupby(df['admit']).mean()[0], df['gpa'].groupby(df['admit']).std()[0],\n",
    "                                      df['gre'].groupby(df['admit']).mean()[0], df['gre'].groupby(df['admit']).std()[0],\n",
    "                                       len(df[(df['prestige']==1) & (df['admit']==0)])/len(df[df['prestige']==1]),\n",
    "                                       len(df[(df['prestige']==2) & (df['admit']==0)])/len(df[df['prestige']==2]),\n",
    "                                       len(df[(df['prestige']==3) & (df['admit']==0)])/len(df[df['prestige']==3]),\n",
    "                                       len(df[(df['prestige']==4) & (df['admit']==0)])/len(df[df['prestige']==4]),\n",
    "                                      ],\n",
    "                      'Admitted': [df['gpa'].groupby(df['admit']).mean()[1], df['gpa'].groupby(df['admit']).std()[1],\n",
    "                                  df['gre'].groupby(df['admit']).mean()[1], df['gre'].groupby(df['admit']).std()[1],\n",
    "                                       len(df[(df['prestige']==1) & (df['admit']==1)])/len(df[df['prestige']==1]),\n",
    "                                       len(df[(df['prestige']==2) & (df['admit']==1)])/len(df[df['prestige']==2]),\n",
    "                                       len(df[(df['prestige']==3) & (df['admit']==1)])/len(df[df['prestige']==3]),\n",
    "                                       len(df[(df['prestige']==4) & (df['admit']==1)])/len(df[df['prestige']==4]),\n",
    "                                  ]})\n",
    "table.index = ['GPA_mean','GPA_std','GRE_mean','GRE_std','prestige 1','prestige 2','prestige 3','prestige 4']\n",
    "table"
   ]
  },
  {
   "cell_type": "code",
   "execution_count": 1,
   "metadata": {
    "collapsed": false
   },
   "outputs": [
    {
     "name": "stdout",
     "output_type": "stream",
     "text": [
      "   admit    gre   gpa  prestige\n",
      "0      0  380.0  3.61       3.0\n",
      "1      1  660.0  3.67       3.0\n",
      "2      1  800.0  4.00       1.0\n",
      "3      1  640.0  3.19       4.0\n",
      "4      0  520.0  2.93       4.0\n"
     ]
    },
    {
     "data": {
      "text/plain": [
       "<seaborn.axisgrid.FacetGrid at 0xa888d68>"
      ]
     },
     "execution_count": 1,
     "metadata": {},
     "output_type": "execute_result"
    },
    {
     "data": {
      "image/png": "[encoded data removed]",
      "text/plain": [
       "<matplotlib.figure.Figure at 0xac324e0>"
      ]
     },
     "metadata": {},
     "output_type": "display_data"
    }
   ],
   "source": [
    "# better than a table, here's a visual plot:\n",
    "\n",
    "%matplotlib inline\n",
    "import matplotlib.pyplot as plt\n",
    "import pandas as pd\n",
    "import statsmodels.api as sm\n",
    "#import pylab as pl\n",
    "import numpy as np\n",
    "import seaborn as sns\n",
    "sns.set_style('darkgrid')\n",
    "\n",
    "df_raw = pd.read_csv(\"./assets/admissions.csv\")\n",
    "df = df_raw.dropna()\n",
    "print (df.head())\n",
    "\n",
    "sns.factorplot('prestige', data=df, hue='admit',kind='count',size=6)"
   ]
  },
  {
   "cell_type": "code",
   "execution_count": 54,
   "metadata": {
    "collapsed": false
   },
   "outputs": [
    {
     "data": {
      "text/html": [
       "<div>\n",
       "<table border=\"1\" class=\"dataframe\">\n",
       "  <thead>\n",
       "    <tr style=\"text-align: right;\">\n",
       "      <th>admit</th>\n",
       "      <th>0</th>\n",
       "      <th>1</th>\n",
       "    </tr>\n",
       "    <tr>\n",
       "      <th>prestige</th>\n",
       "      <th></th>\n",
       "      <th></th>\n",
       "    </tr>\n",
       "  </thead>\n",
       "  <tbody>\n",
       "    <tr>\n",
       "      <th>1.0</th>\n",
       "      <td>28</td>\n",
       "      <td>33</td>\n",
       "    </tr>\n",
       "    <tr>\n",
       "      <th>2.0</th>\n",
       "      <td>95</td>\n",
       "      <td>53</td>\n",
       "    </tr>\n",
       "    <tr>\n",
       "      <th>3.0</th>\n",
       "      <td>93</td>\n",
       "      <td>28</td>\n",
       "    </tr>\n",
       "    <tr>\n",
       "      <th>4.0</th>\n",
       "      <td>55</td>\n",
       "      <td>12</td>\n",
       "    </tr>\n",
       "  </tbody>\n",
       "</table>\n",
       "</div>"
      ],
      "text/plain": [
       "admit      0   1\n",
       "prestige        \n",
       "1.0       28  33\n",
       "2.0       95  53\n",
       "3.0       93  28\n",
       "4.0       55  12"
      ]
     },
     "execution_count": 54,
     "metadata": {},
     "output_type": "execute_result"
    }
   ],
   "source": [
    "pd.crosstab(df['prestige'],df['admit'])"
   ]
  },
  {
   "cell_type": "markdown",
   "metadata": {},
   "source": [
    "### Methods: Write up the methods used in your analysis"
   ]
  },
  {
   "cell_type": "markdown",
   "metadata": {},
   "source": [
    "Answer: We used StatsModel GLM (Generalized Linear Model) function to train and fit the data. We then use the model to predict admission.  We then used Cartesian function to iterate and try various input combos.  We created a new dataframe that looked the same as the original (same columns) and then used statsmodel logit function to make predictions on the enumerated dataset"
   ]
  },
  {
   "cell_type": "markdown",
   "metadata": {},
   "source": [
    "### Results: Write up your results"
   ]
  },
  {
   "cell_type": "markdown",
   "metadata": {},
   "source": [
    "Answer: All independent variables in this case (as well as the added constant) were significant.  We see that the higher to GPA and GRE scores, the more likely it is to be admitted. Also, the higher the prestige rank, the better the oddes are of being admitted."
   ]
  },
  {
   "cell_type": "markdown",
   "metadata": {},
   "source": [
    "### Discussion: Write up your discussion and future steps"
   ]
  },
  {
   "cell_type": "markdown",
   "metadata": {},
   "source": [
    "Answer: Model performance should be compared to the baseline naive classifier, where we predict whichever is the most common outcome (in this case, reject).  The model should beat the naive classifier.  We can also use other criterion to select the best model (such as AIC, BIC etc).\n",
    "\n",
    "We could also try to build a new prediction model using a different method altogether, such as tree or random forest - and then evaluate the performance by looking at AUC."
   ]
  }
 ],
 "metadata": {
  "anaconda-cloud": {},
  "kernelspec": {
   "display_name": "Python [Root]",
   "language": "python",
   "name": "Python [Root]"
  },
  "language_info": {
   "codemirror_mode": {
    "name": "ipython",
    "version": 3
   },
   "file_extension": ".py",
   "mimetype": "text/x-python",
   "name": "python",
   "nbconvert_exporter": "python",
   "pygments_lexer": "ipython3",
   "version": "3.5.2"
  }
 },
 "nbformat": 4,
 "nbformat_minor": 0
}
