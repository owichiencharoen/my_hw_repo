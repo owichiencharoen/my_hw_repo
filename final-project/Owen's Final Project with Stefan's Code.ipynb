{
 "cells": [
  {
   "cell_type": "code",
   "execution_count": 1,
   "metadata": {
    "collapsed": true
   },
   "outputs": [],
   "source": [
    "# Owen Wichiencharoen's standard Python Imports:\n",
    "\n",
    "import pandas as pd\n",
    "from pandas import Series, DataFrame\n",
    "import numpy as np\n",
    "import seaborn as sns\n",
    "sns.set_style('darkgrid')\n",
    "\n",
    "import matplotlib.pyplot as plt\n",
    "%matplotlib inline\n",
    "\n",
    "\n",
    "### REGRESSION PACKAGES\n",
    "# from scipy import stats\n",
    "# import statsmodels.formula.api as smf\n",
    "# import statsmodels.api as sm\n",
    "# import sklearn.linear_model as lm\n",
    "\n",
    "### DATASET PACKAGES\n",
    "# from sklearn.cross_validation import train_test_split, cross_val_score\n",
    "# from sklearn import datasets, metrics\n",
    "\n",
    "### TREE/RANDOMFOREST PACKAGES\n",
    "# from sklearn.tree import DecisionTreeClassifier, export_graphviz\n",
    "# from sklearn.ensemble import RandomForestClassifier\n",
    "# import pydot\n",
    "# from os import system\n",
    "# from sklearn.externals.six import StringIO\n",
    "# from IPython.display import Image\n",
    "\n",
    "### OTHER PACKAGES\n",
    "#import itertools\n",
    "#import pandas_datareader.data as pdweb\n",
    "#from pandas_datareader.data import DataReader\n",
    "#from datetime import datetime\n",
    "#from io import StringIO"
   ]
  },
  {
   "cell_type": "markdown",
   "metadata": {},
   "source": [
    "## Important notes from Kaggle Forum:\n",
    "\n",
    "https://www.kaggle.com/c/talkingdata-mobile-user-demographics/forums\n",
    "\n",
    "- not all events have location (latitude/longitude), and you can treat (0,0),(1,0),(0,1),(1,1) lat/long as NaN."
   ]
  },
  {
   "cell_type": "code",
   "execution_count": 2,
   "metadata": {
    "collapsed": false
   },
   "outputs": [
    {
     "name": "stdout",
     "output_type": "stream",
     "text": [
      "Downloading: gender_age_test.csv.zip\n",
      "Downloading: app_labels.csv.zip\n",
      "Downloading: label_categories.csv.zip\n",
      "Downloading: phone_brand_device_model.csv.zip\n",
      "Downloading: sample_submission.csv.zip\n",
      "Downloading: events.csv.zip\n",
      "Downloading: app_events.csv.zip\n",
      "Downloading: gender_age_train.csv.zip\n",
      "Storing: app_events\n",
      "Storing: app_labels\n",
      "Storing: events\n",
      "Storing: gender_age_test\n",
      "Storing: gender_age_train\n",
      "Storing: label_categories\n",
      "Storing: phone_brand_device_model\n"
     ]
    },
    {
     "name": "stderr",
     "output_type": "stream",
     "text": [
      "C:\\Anaconda3\\lib\\site-packages\\IPython\\core\\interactiveshell.py:2885: PerformanceWarning: \n",
      "your performance may suffer as PyTables will pickle object types that it cannot\n",
      "map directly to c-types [inferred_type->mixed,key->block1_values] [items->['category']]\n",
      "\n",
      "  exec(code_obj, self.user_global_ns, self.user_ns)\n"
     ]
    },
    {
     "name": "stdout",
     "output_type": "stream",
     "text": [
      "Storing: sample_submission\n"
     ]
    }
   ],
   "source": [
    "#!/usr/bin/env python\n",
    "# -*- coding: utf-8 -*-\n",
    "\n",
    "import shutil\n",
    "from os import environ, listdir, makedirs\n",
    "from os.path import join, expanduser, exists, isdir\n",
    "from urllib.parse import urljoin\n",
    "\n",
    "import requests\n",
    "from bs4 import BeautifulSoup as soup\n",
    "from pandas import *\n",
    "\n",
    "## Set path for data file storage\n",
    "analysis_dir = expanduser('~/kaggle')\n",
    "\n",
    "## Create path if necessary\n",
    "if not exists(analysis_dir):\n",
    "    makedirs(analysis_dir)\n",
    "\n",
    "\n",
    "def get_data_dir(competition):\n",
    "    data_dir = join(analysis_dir, competition, 'data')\n",
    "    if not exists(data_dir):\n",
    "        makedirs(data_dir)\n",
    "    return data_dir\n",
    "\n",
    "\n",
    "def download_data(competition='talkingdata-mobile-user-demographics', filetype=['.zip']):\n",
    "    \"\"\"Download kaggle competition data files of designated type(s)\n",
    "    Assumes that KAGGLE_USER and KAGGLE_PASSWD can be retrieved via os.environ[] as environment variables\n",
    "    Requires prior acceptance of terms and conditions for specific competition and user\n",
    "    :param competition: kaggle competition url name\n",
    "    :param filetype: desired data file formats for download - list\n",
    "    \"\"\"\n",
    "\n",
    "    data_dir = get_data_dir(competition)\n",
    "    kaggle_url = 'https://www.kaggle.com'\n",
    "    login_url = '/'.join(s.strip('/') for s in [kaggle_url, 'account', 'login'])\n",
    "    data_url = '/'.join(s.strip('/') for s in [kaggle_url, 'c', competition, 'data'])\n",
    "    login_data = dict(UserName=environ['KAGGLE_USER'], Password=environ['KAGGLE_PASSWD'])\n",
    "\n",
    "    with requests.session() as s:\n",
    "        s.post(login_url, data=login_data)\n",
    "        response = s.get(data_url)\n",
    "        html = soup(response.text, 'html.parser')\n",
    "        links = [a.get('href') for a in html.find_all('a') if a.get('href', None) and a.get('href').endswith(tuple(filetype))]\n",
    "\n",
    "        for link in links:\n",
    "            file_name = link.split('/')[-1]\n",
    "            print('Downloading:', file_name)\n",
    "            with open(join(data_dir, file_name), 'wb') as f:  # open binary type file for compressed\n",
    "                response = s.get(urljoin(kaggle_url, link), stream=True)  # send download request\n",
    "                shutil.copyfileobj(response.raw, f)  # download uncompressed\n",
    "\n",
    "\n",
    "def data_to_hdf(competition='talkingdata-mobile-user-demographics'):\n",
    "    \"\"\"Uncompress competition data and store in HDFStore\"\"\"\n",
    "\n",
    "    data_dir = get_data_dir(competition)\n",
    "    with HDFStore(join(data_dir, 'source.h5')) as store:\n",
    "        for f in [l for l in listdir(data_dir) if not isdir(l) and not l.startswith('.') and not l.endswith('.h5')]:\n",
    "            file_name = f.split('.')[0]\n",
    "            print('Storing:', file_name)\n",
    "            try:\n",
    "                store.put(file_name, read_csv(join(data_dir, f)))\n",
    "            except Exception as e:\n",
    "                print(f, '\\n', e)\n",
    "\n",
    "if __name__ == '__main__':\n",
    "    download_data()\n",
    "    data_to_hdf()"
   ]
  },
  {
   "cell_type": "code",
   "execution_count": 3,
   "metadata": {
    "collapsed": false
   },
   "outputs": [
    {
     "ename": "NameError",
     "evalue": "name 'app_events' is not defined",
     "output_type": "error",
     "traceback": [
      "\u001b[1;31m---------------------------------------------------------------------------\u001b[0m",
      "\u001b[1;31mNameError\u001b[0m                                 Traceback (most recent call last)",
      "\u001b[1;32m<ipython-input-3-24e1c080bfc0>\u001b[0m in \u001b[0;36m<module>\u001b[1;34m()\u001b[0m\n\u001b[1;32m----> 1\u001b[1;33m \u001b[0mapp_events\u001b[0m\u001b[1;33m.\u001b[0m\u001b[0mhead\u001b[0m\u001b[1;33m(\u001b[0m\u001b[1;33m)\u001b[0m\u001b[1;33m\u001b[0m\u001b[0m\n\u001b[0m",
      "\u001b[1;31mNameError\u001b[0m: name 'app_events' is not defined"
     ]
    }
   ],
   "source": []
  },
  {
   "cell_type": "code",
   "execution_count": 13,
   "metadata": {
    "collapsed": false
   },
   "outputs": [],
   "source": [
    "raw_label_categories = pd.read_csv('../../kaggle_data/label_categories.csv')\n",
    "raw_phone_brand_device_model = pd.read_csv('../../kaggle_data/phone_brand_device_model.csv')\n",
    "raw_gender_age_train = pd.read_csv('../../kaggle_data/gender_age_train.csv')\n",
    "raw_gender_age_test = pd.read_csv('../../kaggle_data/gender_age_test.csv')\n",
    "raw_app_events = pd.read_csv('../../kaggle_data/app_events.csv')\n",
    "raw_app_labels = pd.read_csv('../../kaggle_data/app_labels.csv')"
   ]
  },
  {
   "cell_type": "code",
   "execution_count": 14,
   "metadata": {
    "collapsed": false
   },
   "outputs": [
    {
     "name": "stdout",
     "output_type": "stream",
     "text": [
      "<class 'pandas.core.frame.DataFrame'>\n",
      "RangeIndex: 3252950 entries, 0 to 3252949\n",
      "Data columns (total 5 columns):\n",
      "event_id     int64\n",
      "device_id    int64\n",
      "timestamp    object\n",
      "longitude    float64\n",
      "latitude     float64\n",
      "dtypes: float64(2), int64(2), object(1)\n",
      "memory usage: 124.1+ MB\n",
      "None\n",
      "\n",
      "How many rows in original raw_events? Answer:  3252950\n",
      "\n",
      "How many NaN/nulls are there in this DF?\n",
      "event_id     0\n",
      "device_id    0\n",
      "timestamp    0\n",
      "longitude    0\n",
      "latitude     0\n",
      "dtype: int64\n"
     ]
    },
    {
     "data": {
      "text/html": [
       "<div>\n",
       "<table border=\"1\" class=\"dataframe\">\n",
       "  <thead>\n",
       "    <tr style=\"text-align: right;\">\n",
       "      <th></th>\n",
       "      <th>event_id</th>\n",
       "      <th>device_id</th>\n",
       "      <th>timestamp</th>\n",
       "      <th>longitude</th>\n",
       "      <th>latitude</th>\n",
       "    </tr>\n",
       "  </thead>\n",
       "  <tbody>\n",
       "    <tr>\n",
       "      <th>0</th>\n",
       "      <td>1</td>\n",
       "      <td>29182687948017175</td>\n",
       "      <td>2016-05-01 00:55:25</td>\n",
       "      <td>121.38</td>\n",
       "      <td>31.24</td>\n",
       "    </tr>\n",
       "    <tr>\n",
       "      <th>1</th>\n",
       "      <td>2</td>\n",
       "      <td>-6401643145415154744</td>\n",
       "      <td>2016-05-01 00:54:12</td>\n",
       "      <td>103.65</td>\n",
       "      <td>30.97</td>\n",
       "    </tr>\n",
       "    <tr>\n",
       "      <th>2</th>\n",
       "      <td>3</td>\n",
       "      <td>-4833982096941402721</td>\n",
       "      <td>2016-05-01 00:08:05</td>\n",
       "      <td>106.60</td>\n",
       "      <td>29.70</td>\n",
       "    </tr>\n",
       "    <tr>\n",
       "      <th>3</th>\n",
       "      <td>4</td>\n",
       "      <td>-6815121365017318426</td>\n",
       "      <td>2016-05-01 00:06:40</td>\n",
       "      <td>104.27</td>\n",
       "      <td>23.28</td>\n",
       "    </tr>\n",
       "    <tr>\n",
       "      <th>4</th>\n",
       "      <td>5</td>\n",
       "      <td>-5373797595892518570</td>\n",
       "      <td>2016-05-01 00:07:18</td>\n",
       "      <td>115.88</td>\n",
       "      <td>28.66</td>\n",
       "    </tr>\n",
       "  </tbody>\n",
       "</table>\n",
       "</div>"
      ],
      "text/plain": [
       "   event_id            device_id            timestamp  longitude  latitude\n",
       "0         1    29182687948017175  2016-05-01 00:55:25     121.38     31.24\n",
       "1         2 -6401643145415154744  2016-05-01 00:54:12     103.65     30.97\n",
       "2         3 -4833982096941402721  2016-05-01 00:08:05     106.60     29.70\n",
       "3         4 -6815121365017318426  2016-05-01 00:06:40     104.27     23.28\n",
       "4         5 -5373797595892518570  2016-05-01 00:07:18     115.88     28.66"
      ]
     },
     "execution_count": 14,
     "metadata": {},
     "output_type": "execute_result"
    }
   ],
   "source": [
    "# MAIN EVENTS TABLE\n",
    "\n",
    "print(raw_events.info())\n",
    "print('\\nHow many rows in original raw_events? Answer: ',len(raw_events))\n",
    "print('\\nHow many NaN/nulls are there in this DF?')\n",
    "print(raw_events.isnull().sum())\n",
    "raw_events.head()"
   ]
  },
  {
   "cell_type": "code",
   "execution_count": 30,
   "metadata": {
    "collapsed": false
   },
   "outputs": [
    {
     "name": "stdout",
     "output_type": "stream",
     "text": [
      "<class 'pandas.core.frame.DataFrame'>\n",
      "RangeIndex: 187245 entries, 0 to 187244\n",
      "Data columns (total 3 columns):\n",
      "device_id       187245 non-null int64\n",
      "phone_brand     187245 non-null object\n",
      "device_model    187245 non-null object\n",
      "dtypes: int64(1), object(2)\n",
      "memory usage: 4.3+ MB\n",
      "None\n",
      "\n",
      "How many rows in original raw_events? Answer:  187245\n",
      "\n",
      "How many NaN/nulls are there in this DF?\n",
      "device_id       0\n",
      "phone_brand     0\n",
      "device_model    0\n",
      "dtype: int64\n"
     ]
    },
    {
     "data": {
      "text/html": [
       "<div>\n",
       "<table border=\"1\" class=\"dataframe\">\n",
       "  <thead>\n",
       "    <tr style=\"text-align: right;\">\n",
       "      <th></th>\n",
       "      <th>device_id</th>\n",
       "      <th>phone_brand</th>\n",
       "      <th>device_model</th>\n",
       "    </tr>\n",
       "  </thead>\n",
       "  <tbody>\n",
       "    <tr>\n",
       "      <th>0</th>\n",
       "      <td>-8890648629457979026</td>\n",
       "      <td>小米</td>\n",
       "      <td>红米</td>\n",
       "    </tr>\n",
       "    <tr>\n",
       "      <th>1</th>\n",
       "      <td>1277779817574759137</td>\n",
       "      <td>小米</td>\n",
       "      <td>MI 2</td>\n",
       "    </tr>\n",
       "    <tr>\n",
       "      <th>2</th>\n",
       "      <td>5137427614288105724</td>\n",
       "      <td>三星</td>\n",
       "      <td>Galaxy S4</td>\n",
       "    </tr>\n",
       "    <tr>\n",
       "      <th>3</th>\n",
       "      <td>3669464369358936369</td>\n",
       "      <td>SUGAR</td>\n",
       "      <td>时尚手机</td>\n",
       "    </tr>\n",
       "    <tr>\n",
       "      <th>4</th>\n",
       "      <td>-5019277647504317457</td>\n",
       "      <td>三星</td>\n",
       "      <td>Galaxy Note 2</td>\n",
       "    </tr>\n",
       "  </tbody>\n",
       "</table>\n",
       "</div>"
      ],
      "text/plain": [
       "             device_id phone_brand   device_model\n",
       "0 -8890648629457979026          小米             红米\n",
       "1  1277779817574759137          小米           MI 2\n",
       "2  5137427614288105724          三星      Galaxy S4\n",
       "3  3669464369358936369       SUGAR           时尚手机\n",
       "4 -5019277647504317457          三星  Galaxy Note 2"
      ]
     },
     "execution_count": 30,
     "metadata": {},
     "output_type": "execute_result"
    }
   ],
   "source": [
    "# phone_brand_device_model TABLE\n",
    "\n",
    "print(raw_phone_brand_device_model.info())\n",
    "print('\\nHow many rows in original raw_events? Answer: ',len(raw_phone_brand_device_model))\n",
    "print('\\nHow many NaN/nulls are there in this DF?')\n",
    "print(raw_phone_brand_device_model.isnull().sum())\n",
    "raw_phone_brand_device_model.head()"
   ]
  },
  {
   "cell_type": "code",
   "execution_count": 33,
   "metadata": {
    "collapsed": false,
    "scrolled": true
   },
   "outputs": [
    {
     "data": {
      "text/plain": [
       " 9218059356897525342    2\n",
       " 4781989393190512097    2\n",
       " 5435517613682152801    2\n",
       "-7525913571507064767    2\n",
       "-3910393802259418325    2\n",
       "Name: device_id, dtype: int64"
      ]
     },
     "execution_count": 33,
     "metadata": {},
     "output_type": "execute_result"
    }
   ],
   "source": [
    "raw_phone_brand_device_model['device_id'].value_counts().sort_values(ascending=False)[:5]"
   ]
  },
  {
   "cell_type": "code",
   "execution_count": null,
   "metadata": {
    "collapsed": false
   },
   "outputs": [],
   "source": [
    "events = pd.merge(left=raw_events, right=raw_phone_brand_device_model, how='left', left_on='device_id',right_on='device_id')"
   ]
  },
  {
   "cell_type": "code",
   "execution_count": null,
   "metadata": {
    "collapsed": false
   },
   "outputs": [],
   "source": [
    "print('How many rows in original raw_events? Answer: ',len(raw_events))\n",
    "print('How many rows in this new DF? Answer: ',len(events))\n",
    "print('\\nHow many NaN/nulls in this DF?')\n",
    "print(events.isnull().sum())\n",
    "raw_events.head()"
   ]
  },
  {
   "cell_type": "code",
   "execution_count": null,
   "metadata": {
    "collapsed": true
   },
   "outputs": [],
   "source": []
  }
 ],
 "metadata": {
  "anaconda-cloud": {},
  "kernelspec": {
   "display_name": "Python [Root]",
   "language": "python",
   "name": "Python [Root]"
  },
  "language_info": {
   "codemirror_mode": {
    "name": "ipython",
    "version": 3
   },
   "file_extension": ".py",
   "mimetype": "text/x-python",
   "name": "python",
   "nbconvert_exporter": "python",
   "pygments_lexer": "ipython3",
   "version": "3.5.2"
  }
 },
 "nbformat": 4,
 "nbformat_minor": 0
}
