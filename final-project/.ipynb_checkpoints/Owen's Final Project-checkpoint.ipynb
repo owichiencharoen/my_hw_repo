{
 "cells": [
  {
   "cell_type": "code",
   "execution_count": 28,
   "metadata": {
    "collapsed": true
   },
   "outputs": [],
   "source": [
    "# Owen Wichiencharoen's standard Python Imports:\n",
    "\n",
    "import pandas as pd\n",
    "from pandas import Series, DataFrame\n",
    "import numpy as np\n",
    "import seaborn as sns\n",
    "sns.set_style('darkgrid')\n",
    "\n",
    "import matplotlib.pyplot as plt\n",
    "%matplotlib inline\n",
    "\n",
    "\n",
    "### REGRESSION PACKAGES\n",
    "# from scipy import stats\n",
    "# import statsmodels.formula.api as smf\n",
    "# import statsmodels.api as sm\n",
    "# import sklearn.linear_model as lm\n",
    "\n",
    "### DATASET PACKAGES\n",
    "# from sklearn.cross_validation import train_test_split, cross_val_score\n",
    "# from sklearn import datasets, metrics\n",
    "\n",
    "### TREE/RANDOMFOREST PACKAGES\n",
    "# from sklearn.tree import DecisionTreeClassifier, export_graphviz\n",
    "# from sklearn.ensemble import RandomForestClassifier\n",
    "# import pydot\n",
    "# from os import system\n",
    "# from sklearn.externals.six import StringIO\n",
    "# from IPython.display import Image\n",
    "\n",
    "### OTHER PACKAGES\n",
    "#import itertools\n",
    "#import pandas_datareader.data as pdweb\n",
    "#from pandas_datareader.data import DataReader\n",
    "#from datetime import datetime\n",
    "#from io import StringIO\n",
    "from IPython.display import Image"
   ]
  },
  {
   "cell_type": "markdown",
   "metadata": {},
   "source": [
    "## Important notes from Kaggle\n",
    "\n",
    "https://www.kaggle.com/c/talkingdata-mobile-user-demographics/forums\n",
    "\n",
    "- not all events have location (latitude/longitude), and you can treat (0,0),(1,0),(0,1),(1,1) lat/long as NaN.\n",
    "- Some device_ids have duplicates (mappable to two brands/models) - the user probably upgraded his or her phone.\n",
    "- ...\n",
    "\n",
    "#### Data Descriptions\n",
    "\n",
    "- gender_age_train.csv, gender_age_test.csv - the training and test set group: this is the target variable you are going to predict\n",
    "- events.csv, app_events.csv - when a user uses TalkingData SDK, the event gets logged in this data. Each event has an event id, location (lat/long), and the event corresponds to a list of apps in app_events. timestamp: when the user is using an app with TalkingData SDK\n",
    "- app_labels.csv - apps and their labels, the label_id's can be used to join with label_categories\n",
    "- label_categories.csv - apps' labels and their categories in text\n",
    "- phone_brand_device_model.csv - device ids, brand, and models"
   ]
  },
  {
   "cell_type": "code",
   "execution_count": 15,
   "metadata": {
    "collapsed": false
   },
   "outputs": [
    {
     "data": {
      "text/html": [
       "<img src=\"http://i.imgsafe.org/132c9be39b.png\"/>"
      ],
      "text/plain": [
       "<IPython.core.display.Image object>"
      ]
     },
     "execution_count": 15,
     "metadata": {},
     "output_type": "execute_result"
    }
   ],
   "source": [
    "Image(url='http://i.imgsafe.org/132c9be39b.png') "
   ]
  },
  {
   "cell_type": "code",
   "execution_count": 2,
   "metadata": {
    "collapsed": true
   },
   "outputs": [],
   "source": [
    "raw_events = pd.read_csv('../../kaggle_data/events.csv')"
   ]
  },
  {
   "cell_type": "code",
   "execution_count": 3,
   "metadata": {
    "collapsed": false
   },
   "outputs": [],
   "source": [
    "raw_label_categories = pd.read_csv('../../kaggle_data/label_categories.csv')\n",
    "raw_phone_brand_device_model = pd.read_csv('../../kaggle_data/phone_brand_device_model.csv',encoding='utf-8')\n",
    "raw_gender_age_train = pd.read_csv('../../kaggle_data/gender_age_train.csv')\n",
    "raw_gender_age_test = pd.read_csv('../../kaggle_data/gender_age_test.csv')\n",
    "raw_app_events = pd.read_csv('../../kaggle_data/app_events.csv')\n",
    "raw_app_labels = pd.read_csv('../../kaggle_data/app_labels.csv')"
   ]
  },
  {
   "cell_type": "code",
   "execution_count": 30,
   "metadata": {
    "collapsed": false
   },
   "outputs": [
    {
     "name": "stdout",
     "output_type": "stream",
     "text": [
      "NUMBER OF ROWS: 3252950\n",
      "\u001b[92m \n",
      "NULL VALUES:\u001b[00m\n",
      "event_id     0\n",
      "device_id    0\n",
      "timestamp    0\n",
      "longitude    0\n",
      "latitude     0\n",
      "dtype: int64\n",
      "\u001b[92m \n",
      "UNIQUE VALUES:\u001b[00m\n",
      "event_id: 3252950\n",
      "device_id: 60865\n",
      "timestamp: 588125\n",
      "longitude: 3588\n",
      "latitude: 3086\n"
     ]
    },
    {
     "data": {
      "text/html": [
       "<div>\n",
       "<table border=\"1\" class=\"dataframe\">\n",
       "  <thead>\n",
       "    <tr style=\"text-align: right;\">\n",
       "      <th></th>\n",
       "      <th>event_id</th>\n",
       "      <th>device_id</th>\n",
       "      <th>timestamp</th>\n",
       "      <th>longitude</th>\n",
       "      <th>latitude</th>\n",
       "    </tr>\n",
       "  </thead>\n",
       "  <tbody>\n",
       "    <tr>\n",
       "      <th>0</th>\n",
       "      <td>1</td>\n",
       "      <td>29182687948017175</td>\n",
       "      <td>2016-05-01 00:55:25</td>\n",
       "      <td>121.38</td>\n",
       "      <td>31.24</td>\n",
       "    </tr>\n",
       "    <tr>\n",
       "      <th>1</th>\n",
       "      <td>2</td>\n",
       "      <td>-6401643145415154744</td>\n",
       "      <td>2016-05-01 00:54:12</td>\n",
       "      <td>103.65</td>\n",
       "      <td>30.97</td>\n",
       "    </tr>\n",
       "    <tr>\n",
       "      <th>2</th>\n",
       "      <td>3</td>\n",
       "      <td>-4833982096941402721</td>\n",
       "      <td>2016-05-01 00:08:05</td>\n",
       "      <td>106.60</td>\n",
       "      <td>29.70</td>\n",
       "    </tr>\n",
       "  </tbody>\n",
       "</table>\n",
       "</div>"
      ],
      "text/plain": [
       "   event_id            device_id            timestamp  longitude  latitude\n",
       "0         1    29182687948017175  2016-05-01 00:55:25     121.38     31.24\n",
       "1         2 -6401643145415154744  2016-05-01 00:54:12     103.65     30.97\n",
       "2         3 -4833982096941402721  2016-05-01 00:08:05     106.60     29.70"
      ]
     },
     "execution_count": 30,
     "metadata": {},
     "output_type": "execute_result"
    }
   ],
   "source": [
    "# MAIN EVENTS TABLE\n",
    "\n",
    "print('NUMBER OF ROWS:', raw_events.shape[0])\n",
    "\n",
    "prGreen('\\nNULL VALUES:')\n",
    "print(raw_events.isnull().sum())\n",
    "\n",
    "prGreen(\"\\nUNIQUE VALUES:\")\n",
    "for c in raw_events.columns:\n",
    "    print('{}: {}'.format(c, raw_events[c].nunique()))\n",
    "\n",
    "raw_events.head(3)"
   ]
  },
  {
   "cell_type": "code",
   "execution_count": 20,
   "metadata": {
    "collapsed": false
   },
   "outputs": [
    {
     "name": "stdout",
     "output_type": "stream",
     "text": [
      "NUMBER OF ROWS: 187245\n",
      "\n",
      "NULL VALUES:\n",
      "device_id       0\n",
      "phone_brand     0\n",
      "device_model    0\n",
      "dtype: int64\n",
      "\n",
      "UNIQUE VALUES:\n",
      "device_id: 186716\n",
      "phone_brand: 131\n",
      "device_model: 1599\n"
     ]
    },
    {
     "data": {
      "text/html": [
       "<div>\n",
       "<table border=\"1\" class=\"dataframe\">\n",
       "  <thead>\n",
       "    <tr style=\"text-align: right;\">\n",
       "      <th></th>\n",
       "      <th>device_id</th>\n",
       "      <th>phone_brand</th>\n",
       "      <th>device_model</th>\n",
       "    </tr>\n",
       "  </thead>\n",
       "  <tbody>\n",
       "    <tr>\n",
       "      <th>0</th>\n",
       "      <td>-8890648629457979026</td>\n",
       "      <td>小米</td>\n",
       "      <td>红米</td>\n",
       "    </tr>\n",
       "    <tr>\n",
       "      <th>1</th>\n",
       "      <td>1277779817574759137</td>\n",
       "      <td>小米</td>\n",
       "      <td>MI 2</td>\n",
       "    </tr>\n",
       "    <tr>\n",
       "      <th>2</th>\n",
       "      <td>5137427614288105724</td>\n",
       "      <td>三星</td>\n",
       "      <td>Galaxy S4</td>\n",
       "    </tr>\n",
       "    <tr>\n",
       "      <th>3</th>\n",
       "      <td>3669464369358936369</td>\n",
       "      <td>SUGAR</td>\n",
       "      <td>时尚手机</td>\n",
       "    </tr>\n",
       "  </tbody>\n",
       "</table>\n",
       "</div>"
      ],
      "text/plain": [
       "             device_id phone_brand device_model\n",
       "0 -8890648629457979026          小米           红米\n",
       "1  1277779817574759137          小米         MI 2\n",
       "2  5137427614288105724          三星    Galaxy S4\n",
       "3  3669464369358936369       SUGAR         时尚手机"
      ]
     },
     "execution_count": 20,
     "metadata": {},
     "output_type": "execute_result"
    }
   ],
   "source": [
    "# phone_brand_device_model TABLE\n",
    "\n",
    "print('NUMBER OF ROWS:', raw_phone_brand_device_model.shape[0])\n",
    "\n",
    "print('\\nNULL VALUES:')\n",
    "print(raw_phone_brand_device_model.isnull().sum())\n",
    "\n",
    "print(\"\\nUNIQUE VALUES:\")\n",
    "for c in raw_phone_brand_device_model.columns:\n",
    "    print('{}: {}'.format(c, raw_phone_brand_device_model[c].nunique()))\n",
    "\n",
    "raw_phone_brand_device_model.head(4)"
   ]
  },
  {
   "cell_type": "code",
   "execution_count": 21,
   "metadata": {
    "collapsed": false,
    "scrolled": true
   },
   "outputs": [
    {
     "data": {
      "text/plain": [
       " 9218059356897525342    2\n",
       " 4781989393190512097    2\n",
       " 5435517613682152801    2\n",
       "-7525913571507064767    2\n",
       "Name: device_id, dtype: int64"
      ]
     },
     "execution_count": 21,
     "metadata": {},
     "output_type": "execute_result"
    }
   ],
   "source": [
    "raw_phone_brand_device_model['device_id'].value_counts().sort_values(ascending=False)[:4]"
   ]
  },
  {
   "cell_type": "code",
   "execution_count": 24,
   "metadata": {
    "collapsed": false
   },
   "outputs": [
    {
     "name": "stdout",
     "output_type": "stream",
     "text": [
      "NUMBER OF DUPLICATES: 529\n",
      "\n",
      "WHAT N OF DUPLICATES:\n"
     ]
    },
    {
     "data": {
      "text/plain": [
       "2    529\n",
       "dtype: int64"
      ]
     },
     "execution_count": 24,
     "metadata": {},
     "output_type": "execute_result"
    }
   ],
   "source": [
    "# Expected device_id to be a unique key. Looks like there are some duplicates\n",
    "\n",
    "dupes = raw_phone_brand_device_model.groupby('device_id').size()\n",
    "dupes = dupes[dupes>1]\n",
    "print('NUMBER OF DUPLICATES:', dupes.shape[0])\n",
    "\n",
    "print('\\nWHAT N OF DUPLICATES:')\n",
    "dupes.value_counts()"
   ]
  },
  {
   "cell_type": "code",
   "execution_count": 27,
   "metadata": {
    "collapsed": false
   },
   "outputs": [],
   "source": [
    "dupes = raw_phone_brand_device_model.loc[raw_phone_brand_device_model['device_id'].isin(dupes.index)]\n",
    "firstd = dupes.groupby('device_id').first()\n",
    "lastd = dupes.groupby('device_id').last()"
   ]
  },
  {
   "cell_type": "code",
   "execution_count": null,
   "metadata": {
    "collapsed": true
   },
   "outputs": [],
   "source": []
  }
 ],
 "metadata": {
  "anaconda-cloud": {},
  "kernelspec": {
   "display_name": "Python [Root]",
   "language": "python",
   "name": "Python [Root]"
  },
  "language_info": {
   "codemirror_mode": {
    "name": "ipython",
    "version": 3
   },
   "file_extension": ".py",
   "mimetype": "text/x-python",
   "name": "python",
   "nbconvert_exporter": "python",
   "pygments_lexer": "ipython3",
   "version": "3.5.2"
  }
 },
 "nbformat": 4,
 "nbformat_minor": 0
}
