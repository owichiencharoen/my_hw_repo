{
 "cells": [
  {
   "cell_type": "code",
   "execution_count": 1,
   "metadata": {
    "collapsed": true
   },
   "outputs": [],
   "source": [
    "# Owen Wichiencharoen's standard Python Imports:\n",
    "\n",
    "import pandas as pd\n",
    "from pandas import Series, DataFrame\n",
    "import numpy as np\n",
    "import seaborn as sns\n",
    "sns.set_style('darkgrid')\n",
    "\n",
    "import matplotlib.pyplot as plt\n",
    "%matplotlib inline\n",
    "\n",
    "\n",
    "### REGRESSION PACKAGES\n",
    "# from scipy import stats\n",
    "# import statsmodels.formula.api as smf\n",
    "# import statsmodels.api as sm\n",
    "# import sklearn.linear_model as lm\n",
    "\n",
    "### DATASET PACKAGES\n",
    "# from sklearn.cross_validation import train_test_split, cross_val_score\n",
    "# from sklearn import datasets, metrics\n",
    "\n",
    "### TREE/RANDOMFOREST PACKAGES\n",
    "# from sklearn.tree import DecisionTreeClassifier, export_graphviz\n",
    "# from sklearn.ensemble import RandomForestClassifier\n",
    "# import pydot\n",
    "# from os import system\n",
    "# from sklearn.externals.six import StringIO\n",
    "# from IPython.display import Image\n",
    "\n",
    "### OTHER PACKAGES\n",
    "#import itertools\n",
    "#import pandas_datareader.data as pdweb\n",
    "#from pandas_datareader.data import DataReader\n",
    "#from datetime import datetime\n",
    "#from io import StringIO"
   ]
  },
  {
   "cell_type": "markdown",
   "metadata": {},
   "source": [
    "## Important notes from Kaggle Forum:\n",
    "\n",
    "https://www.kaggle.com/c/talkingdata-mobile-user-demographics/forums\n",
    "\n",
    "- not all events have location (latitude/longitude), and you can treat (0,0),(1,0),(0,1),(1,1) lat/long as NaN."
   ]
  },
  {
   "cell_type": "code",
   "execution_count": 2,
   "metadata": {
    "collapsed": false
   },
   "outputs": [
    {
     "name": "stdout",
     "output_type": "stream",
     "text": [
      "Downloading: gender_age_test.csv.zip\n",
      "Downloading: app_labels.csv.zip\n",
      "Downloading: label_categories.csv.zip\n",
      "Downloading: phone_brand_device_model.csv.zip\n",
      "Downloading: sample_submission.csv.zip\n",
      "Downloading: events.csv.zip\n",
      "Downloading: app_events.csv.zip\n",
      "Downloading: gender_age_train.csv.zip\n",
      "Storing: app_events\n",
      "Storing: app_labels\n",
      "Storing: events\n",
      "Storing: gender_age_test\n",
      "Storing: gender_age_train\n",
      "Storing: label_categories\n",
      "Storing: phone_brand_device_model\n"
     ]
    },
    {
     "name": "stderr",
     "output_type": "stream",
     "text": [
      "C:\\Anaconda3\\lib\\site-packages\\IPython\\core\\interactiveshell.py:2885: PerformanceWarning: \n",
      "your performance may suffer as PyTables will pickle object types that it cannot\n",
      "map directly to c-types [inferred_type->mixed,key->block1_values] [items->['category']]\n",
      "\n",
      "  exec(code_obj, self.user_global_ns, self.user_ns)\n"
     ]
    },
    {
     "name": "stdout",
     "output_type": "stream",
     "text": [
      "Storing: sample_submission\n"
     ]
    }
   ],
   "source": [
    "#!/usr/bin/env python\n",
    "# -*- coding: utf-8 -*-\n",
    "\n",
    "import shutil\n",
    "from os import environ, listdir, makedirs\n",
    "from os.path import join, expanduser, exists, isdir\n",
    "from urllib.parse import urljoin\n",
    "\n",
    "import requests\n",
    "from bs4 import BeautifulSoup as soup\n",
    "from pandas import *\n",
    "\n",
    "## Set path for data file storage\n",
    "analysis_dir = expanduser('~/kaggle')\n",
    "\n",
    "## Create path if necessary\n",
    "if not exists(analysis_dir):\n",
    "    makedirs(analysis_dir)\n",
    "\n",
    "\n",
    "def get_data_dir(competition):\n",
    "    data_dir = join(analysis_dir, competition, 'data')\n",
    "    if not exists(data_dir):\n",
    "        makedirs(data_dir)\n",
    "    return data_dir\n",
    "\n",
    "\n",
    "def download_data(competition='talkingdata-mobile-user-demographics', filetype=['.zip']):\n",
    "    \"\"\"Download kaggle competition data files of designated type(s)\n",
    "    Assumes that KAGGLE_USER and KAGGLE_PASSWD can be retrieved via os.environ[] as environment variables\n",
    "    Requires prior acceptance of terms and conditions for specific competition and user\n",
    "    :param competition: kaggle competition url name\n",
    "    :param filetype: desired data file formats for download - list\n",
    "    \"\"\"\n",
    "\n",
    "    data_dir = get_data_dir(competition)\n",
    "    kaggle_url = 'https://www.kaggle.com'\n",
    "    login_url = '/'.join(s.strip('/') for s in [kaggle_url, 'account', 'login'])\n",
    "    data_url = '/'.join(s.strip('/') for s in [kaggle_url, 'c', competition, 'data'])\n",
    "    login_data = dict(UserName=environ['KAGGLE_USER'], Password=environ['KAGGLE_PASSWD'])\n",
    "\n",
    "    with requests.session() as s:\n",
    "        s.post(login_url, data=login_data)\n",
    "        response = s.get(data_url)\n",
    "        html = soup(response.text, 'html.parser')\n",
    "        links = [a.get('href') for a in html.find_all('a') if a.get('href', None) and a.get('href').endswith(tuple(filetype))]\n",
    "\n",
    "        for link in links:\n",
    "            file_name = link.split('/')[-1]\n",
    "            print('Downloading:', file_name)\n",
    "            with open(join(data_dir, file_name), 'wb') as f:  # open binary type file for compressed\n",
    "                response = s.get(urljoin(kaggle_url, link), stream=True)  # send download request\n",
    "                shutil.copyfileobj(response.raw, f)  # download uncompressed\n",
    "\n",
    "\n",
    "def data_to_hdf(competition='talkingdata-mobile-user-demographics'):\n",
    "    \"\"\"Uncompress competition data and store in HDFStore\"\"\"\n",
    "\n",
    "    data_dir = get_data_dir(competition)\n",
    "    with HDFStore(join(data_dir, 'source.h5')) as store:\n",
    "        for f in [l for l in listdir(data_dir) if not isdir(l) and not l.startswith('.') and not l.endswith('.h5')]:\n",
    "            file_name = f.split('.')[0]\n",
    "            print('Storing:', file_name)\n",
    "            try:\n",
    "                store.put(file_name, read_csv(join(data_dir, f)))\n",
    "            except Exception as e:\n",
    "                print(f, '\\n', e)\n",
    "\n",
    "if __name__ == '__main__':\n",
    "    download_data()\n",
    "    data_to_hdf()"
   ]
  }
 ],
 "metadata": {
  "anaconda-cloud": {},
  "kernelspec": {
   "display_name": "Python [Root]",
   "language": "python",
   "name": "Python [Root]"
  },
  "language_info": {
   "codemirror_mode": {
    "name": "ipython",
    "version": 3
   },
   "file_extension": ".py",
   "mimetype": "text/x-python",
   "name": "python",
   "nbconvert_exporter": "python",
   "pygments_lexer": "ipython3",
   "version": "3.5.2"
  }
 },
 "nbformat": 4,
 "nbformat_minor": 0
}
