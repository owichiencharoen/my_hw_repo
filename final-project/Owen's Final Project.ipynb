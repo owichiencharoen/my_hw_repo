{
 "cells": [
  {
   "cell_type": "code",
   "execution_count": 55,
   "metadata": {
    "collapsed": true
   },
   "outputs": [],
   "source": [
    "# Owen Wichiencharoen's standard Python Imports:\n",
    "\n",
    "import pandas as pd\n",
    "from pandas import Series, DataFrame\n",
    "import numpy as np\n",
    "import seaborn as sns\n",
    "sns.set_style('darkgrid')\n",
    "\n",
    "import matplotlib.pyplot as plt\n",
    "%matplotlib inline\n",
    "\n",
    "\n",
    "### REGRESSION PACKAGES\n",
    "# from scipy import stats\n",
    "# import statsmodels.formula.api as smf\n",
    "# import statsmodels.api as sm\n",
    "# import sklearn.linear_model as lm\n",
    "\n",
    "### DATASET PACKAGES\n",
    "# from sklearn.cross_validation import train_test_split, cross_val_score\n",
    "# from sklearn import datasets, metrics\n",
    "from sklearn.preprocessing import LabelEncoder\n",
    "\n",
    "### TREE/RANDOMFOREST PACKAGES\n",
    "# from sklearn.tree import DecisionTreeClassifier, export_graphviz\n",
    "# from sklearn.ensemble import RandomForestClassifier\n",
    "# import pydot\n",
    "# from os import system\n",
    "# from sklearn.externals.six import StringIO\n",
    "# from IPython.display import Image\n",
    "\n",
    "### OTHER PACKAGES\n",
    "#import itertools\n",
    "#import pandas_datareader.data as pdweb\n",
    "#from pandas_datareader.data import DataReader\n",
    "#from datetime import datetime\n",
    "#from io import StringIO\n",
    "from IPython.display import Image"
   ]
  },
  {
   "cell_type": "markdown",
   "metadata": {},
   "source": [
    "## Important notes from Kaggle\n",
    "\n",
    "https://www.kaggle.com/c/talkingdata-mobile-user-demographics/forums\n",
    "\n",
    "- not all events have location (latitude/longitude), and you can treat (0,0),(1,0),(0,1),(1,1) lat/long as NaN.\n",
    "- Some device_ids have duplicates (mappable to two brands/models) - the user probably upgraded his or her phone.\n",
    "- ...\n",
    "\n",
    "## Data Descriptions\n",
    "\n",
    "- gender_age_train.csv, gender_age_test.csv - the training and test set group: this is the target variable you are going to predict\n",
    "- events.csv, app_events.csv - when a user uses TalkingData SDK, the event gets logged in this data. Each event has an event id, location (lat/long), and the event corresponds to a list of apps in app_events. timestamp: when the user is using an app with TalkingData SDK\n",
    "- app_labels.csv - apps and their labels, the label_id's can be used to join with label_categories\n",
    "- label_categories.csv - apps' labels and their categories in text\n",
    "- phone_brand_device_model.csv - device ids, brand, and models"
   ]
  },
  {
   "cell_type": "code",
   "execution_count": 15,
   "metadata": {
    "collapsed": false
   },
   "outputs": [
    {
     "data": {
      "text/html": [
       "<img src=\"http://i.imgsafe.org/132c9be39b.png\"/>"
      ],
      "text/plain": [
       "<IPython.core.display.Image object>"
      ]
     },
     "execution_count": 15,
     "metadata": {},
     "output_type": "execute_result"
    }
   ],
   "source": [
    "Image(url='http://i.imgsafe.org/132c9be39b.png') "
   ]
  },
  {
   "cell_type": "code",
   "execution_count": 2,
   "metadata": {
    "collapsed": true
   },
   "outputs": [],
   "source": [
    "raw_events = pd.read_csv('../../kaggle_data/events.csv')"
   ]
  },
  {
   "cell_type": "code",
   "execution_count": 3,
   "metadata": {
    "collapsed": false
   },
   "outputs": [],
   "source": [
    "raw_label_categories = pd.read_csv('../../kaggle_data/label_categories.csv')\n",
    "raw_phone_brand_device_model = pd.read_csv('../../kaggle_data/phone_brand_device_model.csv',encoding='utf-8')\n",
    "raw_gender_age_train = pd.read_csv('../../kaggle_data/gender_age_train.csv')\n",
    "raw_gender_age_test = pd.read_csv('../../kaggle_data/gender_age_test.csv')\n",
    "raw_app_events = pd.read_csv('../../kaggle_data/app_events.csv')\n",
    "raw_app_labels = pd.read_csv('../../kaggle_data/app_labels.csv')"
   ]
  },
  {
   "cell_type": "markdown",
   "metadata": {},
   "source": [
    "#### EVENTS TABLE (main)"
   ]
  },
  {
   "cell_type": "code",
   "execution_count": 32,
   "metadata": {
    "collapsed": false
   },
   "outputs": [
    {
     "name": "stdout",
     "output_type": "stream",
     "text": [
      "NUMBER OF ROWS: 3252950\n",
      "\n",
      "NULL VALUES:\n",
      "event_id     0\n",
      "device_id    0\n",
      "timestamp    0\n",
      "longitude    0\n",
      "latitude     0\n",
      "dtype: int64\n",
      "\n",
      "UNIQUE VALUES:\n",
      "event_id: 3252950\n",
      "device_id: 60865\n",
      "timestamp: 588125\n",
      "longitude: 3588\n",
      "latitude: 3086\n"
     ]
    },
    {
     "data": {
      "text/html": [
       "<div>\n",
       "<table border=\"1\" class=\"dataframe\">\n",
       "  <thead>\n",
       "    <tr style=\"text-align: right;\">\n",
       "      <th></th>\n",
       "      <th>event_id</th>\n",
       "      <th>device_id</th>\n",
       "      <th>timestamp</th>\n",
       "      <th>longitude</th>\n",
       "      <th>latitude</th>\n",
       "    </tr>\n",
       "  </thead>\n",
       "  <tbody>\n",
       "    <tr>\n",
       "      <th>0</th>\n",
       "      <td>1</td>\n",
       "      <td>29182687948017175</td>\n",
       "      <td>2016-05-01 00:55:25</td>\n",
       "      <td>121.38</td>\n",
       "      <td>31.24</td>\n",
       "    </tr>\n",
       "    <tr>\n",
       "      <th>1</th>\n",
       "      <td>2</td>\n",
       "      <td>-6401643145415154744</td>\n",
       "      <td>2016-05-01 00:54:12</td>\n",
       "      <td>103.65</td>\n",
       "      <td>30.97</td>\n",
       "    </tr>\n",
       "    <tr>\n",
       "      <th>2</th>\n",
       "      <td>3</td>\n",
       "      <td>-4833982096941402721</td>\n",
       "      <td>2016-05-01 00:08:05</td>\n",
       "      <td>106.60</td>\n",
       "      <td>29.70</td>\n",
       "    </tr>\n",
       "  </tbody>\n",
       "</table>\n",
       "</div>"
      ],
      "text/plain": [
       "   event_id            device_id            timestamp  longitude  latitude\n",
       "0         1    29182687948017175  2016-05-01 00:55:25     121.38     31.24\n",
       "1         2 -6401643145415154744  2016-05-01 00:54:12     103.65     30.97\n",
       "2         3 -4833982096941402721  2016-05-01 00:08:05     106.60     29.70"
      ]
     },
     "execution_count": 32,
     "metadata": {},
     "output_type": "execute_result"
    }
   ],
   "source": [
    "print('NUMBER OF ROWS:', raw_events.shape[0])\n",
    "\n",
    "print('\\nNULL VALUES:')\n",
    "print(raw_events.isnull().sum())\n",
    "\n",
    "print(\"\\nUNIQUE VALUES:\")\n",
    "for c in raw_events.columns:\n",
    "    print('{}: {}'.format(c, raw_events[c].nunique()))\n",
    "\n",
    "raw_events.head(3)"
   ]
  },
  {
   "cell_type": "markdown",
   "metadata": {},
   "source": [
    "#### PHONE_BRAND_DEVICE_MODEL TABLE"
   ]
  },
  {
   "cell_type": "code",
   "execution_count": 35,
   "metadata": {
    "collapsed": false
   },
   "outputs": [
    {
     "name": "stdout",
     "output_type": "stream",
     "text": [
      "NUMBER OF ROWS: 187245\n",
      "\n",
      "NULL VALUES:\n",
      "device_id       0\n",
      "phone_brand     0\n",
      "device_model    0\n",
      "dtype: int64\n",
      "\n",
      "UNIQUE VALUES:\n",
      "device_id: 186716\n",
      "phone_brand: 131\n",
      "device_model: 1599\n"
     ]
    },
    {
     "data": {
      "text/html": [
       "<div>\n",
       "<table border=\"1\" class=\"dataframe\">\n",
       "  <thead>\n",
       "    <tr style=\"text-align: right;\">\n",
       "      <th></th>\n",
       "      <th>device_id</th>\n",
       "      <th>phone_brand</th>\n",
       "      <th>device_model</th>\n",
       "    </tr>\n",
       "  </thead>\n",
       "  <tbody>\n",
       "    <tr>\n",
       "      <th>0</th>\n",
       "      <td>-8890648629457979026</td>\n",
       "      <td>小米</td>\n",
       "      <td>红米</td>\n",
       "    </tr>\n",
       "    <tr>\n",
       "      <th>1</th>\n",
       "      <td>1277779817574759137</td>\n",
       "      <td>小米</td>\n",
       "      <td>MI 2</td>\n",
       "    </tr>\n",
       "    <tr>\n",
       "      <th>2</th>\n",
       "      <td>5137427614288105724</td>\n",
       "      <td>三星</td>\n",
       "      <td>Galaxy S4</td>\n",
       "    </tr>\n",
       "  </tbody>\n",
       "</table>\n",
       "</div>"
      ],
      "text/plain": [
       "             device_id phone_brand device_model\n",
       "0 -8890648629457979026          小米           红米\n",
       "1  1277779817574759137          小米         MI 2\n",
       "2  5137427614288105724          三星    Galaxy S4"
      ]
     },
     "execution_count": 35,
     "metadata": {},
     "output_type": "execute_result"
    }
   ],
   "source": [
    "print('NUMBER OF ROWS:', raw_phone_brand_device_model.shape[0])\n",
    "\n",
    "print('\\nNULL VALUES:')\n",
    "print(raw_phone_brand_device_model.isnull().sum())\n",
    "\n",
    "print(\"\\nUNIQUE VALUES:\")\n",
    "for c in raw_phone_brand_device_model.columns:\n",
    "    print('{}: {}'.format(c, raw_phone_brand_device_model[c].nunique()))\n",
    "\n",
    "raw_phone_brand_device_model.head(3)"
   ]
  },
  {
   "cell_type": "code",
   "execution_count": 21,
   "metadata": {
    "collapsed": false,
    "scrolled": true
   },
   "outputs": [
    {
     "data": {
      "text/plain": [
       " 9218059356897525342    2\n",
       " 4781989393190512097    2\n",
       " 5435517613682152801    2\n",
       "-7525913571507064767    2\n",
       "Name: device_id, dtype: int64"
      ]
     },
     "execution_count": 21,
     "metadata": {},
     "output_type": "execute_result"
    }
   ],
   "source": [
    "raw_phone_brand_device_model['device_id'].value_counts().sort_values(ascending=False)[:4]"
   ]
  },
  {
   "cell_type": "code",
   "execution_count": 50,
   "metadata": {
    "collapsed": false
   },
   "outputs": [
    {
     "name": "stdout",
     "output_type": "stream",
     "text": [
      "NUMBER OF DUPLICATES: 529\n",
      "\n",
      "WHAT N OF DUPLICATES:\n"
     ]
    },
    {
     "data": {
      "text/plain": [
       "2    529\n",
       "dtype: int64"
      ]
     },
     "execution_count": 50,
     "metadata": {},
     "output_type": "execute_result"
    }
   ],
   "source": [
    "# Expected device_ids to be unique. Looks like there are duplicates\n",
    "\n",
    "dupes = raw_phone_brand_device_model.groupby('device_id').size()\n",
    "dupes = dupes[dupes>1]\n",
    "print('NUMBER OF DUPLICATES:', dupes.shape[0])\n",
    "\n",
    "print('\\nWHAT N OF DUPLICATES:')\n",
    "dupes.value_counts()"
   ]
  },
  {
   "cell_type": "code",
   "execution_count": 51,
   "metadata": {
    "collapsed": false,
    "scrolled": true
   },
   "outputs": [
    {
     "data": {
      "text/html": [
       "<div>\n",
       "<table border=\"1\" class=\"dataframe\">\n",
       "  <thead>\n",
       "    <tr style=\"text-align: right;\">\n",
       "      <th></th>\n",
       "      <th>phone_brand</th>\n",
       "      <th>device_model</th>\n",
       "      <th>phone_brand</th>\n",
       "      <th>device_model</th>\n",
       "    </tr>\n",
       "    <tr>\n",
       "      <th>device_id</th>\n",
       "      <th></th>\n",
       "      <th></th>\n",
       "      <th></th>\n",
       "      <th></th>\n",
       "    </tr>\n",
       "  </thead>\n",
       "  <tbody>\n",
       "    <tr>\n",
       "      <th>-7297178577997113203</th>\n",
       "      <td>华为</td>\n",
       "      <td>荣耀畅玩5X</td>\n",
       "      <td>华为</td>\n",
       "      <td>荣耀3C</td>\n",
       "    </tr>\n",
       "    <tr>\n",
       "      <th>-7059081542575379359</th>\n",
       "      <td>LG</td>\n",
       "      <td>Nexus 5</td>\n",
       "      <td>魅族</td>\n",
       "      <td>魅蓝Note 2</td>\n",
       "    </tr>\n",
       "    <tr>\n",
       "      <th>-6590454305031525112</th>\n",
       "      <td>小米</td>\n",
       "      <td>MI 3</td>\n",
       "      <td>华为</td>\n",
       "      <td>荣耀6 Plus</td>\n",
       "    </tr>\n",
       "    <tr>\n",
       "      <th>-5269721363279128080</th>\n",
       "      <td>三星</td>\n",
       "      <td>Galaxy Core Advance</td>\n",
       "      <td>小米</td>\n",
       "      <td>MI 3</td>\n",
       "    </tr>\n",
       "    <tr>\n",
       "      <th>-3004353610608679970</th>\n",
       "      <td>酷派</td>\n",
       "      <td>5891</td>\n",
       "      <td>酷派</td>\n",
       "      <td>7296</td>\n",
       "    </tr>\n",
       "    <tr>\n",
       "      <th>5245428108336915020</th>\n",
       "      <td>魅族</td>\n",
       "      <td>MX4</td>\n",
       "      <td>小米</td>\n",
       "      <td>MI One Plus</td>\n",
       "    </tr>\n",
       "  </tbody>\n",
       "</table>\n",
       "</div>"
      ],
      "text/plain": [
       "                     phone_brand         device_model phone_brand device_model\n",
       "device_id                                                                     \n",
       "-7297178577997113203          华为               荣耀畅玩5X          华为         荣耀3C\n",
       "-7059081542575379359          LG              Nexus 5          魅族     魅蓝Note 2\n",
       "-6590454305031525112          小米                 MI 3          华为     荣耀6 Plus\n",
       "-5269721363279128080          三星  Galaxy Core Advance          小米         MI 3\n",
       "-3004353610608679970          酷派                 5891          酷派         7296\n",
       " 5245428108336915020          魅族                  MX4          小米  MI One Plus"
      ]
     },
     "execution_count": 51,
     "metadata": {},
     "output_type": "execute_result"
    }
   ],
   "source": [
    "# Are these duplicates exactly the same (we can drop them) or are they different?\n",
    "\n",
    "dupes = raw_phone_brand_device_model.loc[raw_phone_brand_device_model['device_id'].isin(dupes.index)]\n",
    "firstd = dupes.groupby('device_id').first() # nrows = 529\n",
    "lastd = dupes.groupby('device_id').last() # nrows = 529\n",
    "\n",
    "diff = (firstd != lastd).sum(axis=1).nonzero()\n",
    "pd.concat((firstd.iloc[diff], lastd.iloc[diff]),axis=1)"
   ]
  },
  {
   "cell_type": "code",
   "execution_count": 52,
   "metadata": {
    "collapsed": false
   },
   "outputs": [
    {
     "name": "stdout",
     "output_type": "stream",
     "text": [
      "in train:  1\n",
      "in test:  5\n"
     ]
    }
   ],
   "source": [
    "# Looks like 6 devices with duplicate rows have different values for brand and model.\n",
    "\n",
    "# Are they in train or in test?\n",
    "\n",
    "dev = _.index\n",
    "print(\"in train: \",sum(raw_gender_age_train['device_id'].isin(dev)))\n",
    "print(\"in test: \",sum(raw_gender_age_test['device_id'].isin(dev)))"
   ]
  },
  {
   "cell_type": "code",
   "execution_count": 53,
   "metadata": {
    "collapsed": true
   },
   "outputs": [],
   "source": [
    "# Only 6 rows are weird. Let's just drop all duplicates\n",
    "\n",
    "phone_brand_device_model = raw_phone_brand_device_model.drop_duplicates('device_id', keep='first')\n",
    "del raw_phone_brand_device_model"
   ]
  },
  {
   "cell_type": "code",
   "execution_count": 54,
   "metadata": {
    "collapsed": false
   },
   "outputs": [
    {
     "data": {
      "text/plain": [
       "1    1545\n",
       "2      43\n",
       "3       8\n",
       "4       3\n",
       "Name: phone_brand, dtype: int64"
      ]
     },
     "execution_count": 54,
     "metadata": {},
     "output_type": "execute_result"
    }
   ],
   "source": [
    "# KAGGLE FORUM POINTS OUT THAT SOME MODEL NAMES CAN BELONG TO DIFFERENT BRANDS!!!\n",
    "\n",
    "x = phone_brand_device_model.groupby('device_model')['phone_brand'].apply(pd.Series.nunique)\n",
    "x.value_counts()"
   ]
  },
  {
   "cell_type": "code",
   "execution_count": null,
   "metadata": {
    "collapsed": true
   },
   "outputs": [],
   "source": [
    "# Use the same trick as we would in excel:  create a Brand-Model column by concatenating them.\n",
    "\n",
    "lebrand = LabelEncoder().fit(phone_brand_device_model.phone_brand)\n",
    "phone['brand'] = lebrand.transform(phone_brand_device_model.phone_brand)\n",
    "m = phone.phone_brand.str.cat(phone_brand_device_model.device_model)\n",
    "lemodel = LabelEncoder().fit(m)\n",
    "phone['model'] = lemodel.transform(m)"
   ]
  }
 ],
 "metadata": {
  "anaconda-cloud": {},
  "kernelspec": {
   "display_name": "Python [Root]",
   "language": "python",
   "name": "Python [Root]"
  },
  "language_info": {
   "codemirror_mode": {
    "name": "ipython",
    "version": 3
   },
   "file_extension": ".py",
   "mimetype": "text/x-python",
   "name": "python",
   "nbconvert_exporter": "python",
   "pygments_lexer": "ipython3",
   "version": "3.5.2"
  }
 },
 "nbformat": 4,
 "nbformat_minor": 0
}
